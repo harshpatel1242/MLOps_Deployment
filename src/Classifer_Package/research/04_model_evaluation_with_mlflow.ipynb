{
 "cells": [
  {
   "cell_type": "code",
   "execution_count": 3,
   "metadata": {},
   "outputs": [],
   "source": [
    "import os"
   ]
  },
  {
   "cell_type": "code",
   "execution_count": 4,
   "metadata": {},
   "outputs": [],
   "source": [
    "os.environ[\"MLFLOW_TRACKING_URI\"]=\"https://dagshub.com/harshpatel1242/MLOps_Deployment.mlflow\"\n",
    "os.environ[\"MLFLOW_TRACKING_USERNAME\"]=\"harshpatel1242\"\n",
    "os.environ[\"MLFLOW_TRACKING_PASSWORD\"]=\"8675dcdf0761bcf5074723776a0dffcb962d0895\""
   ]
  },
  {
   "cell_type": "code",
   "execution_count": 5,
   "metadata": {},
   "outputs": [],
   "source": [
    "# MLFLOW_TRACKING_URI=https://dagshub.com/harshpatel1242/MLOps_Deployment.mlflow \\\n",
    "# MLFLOW_TRACKING_USERNAME=harshpatel1242 \\\n",
    "# MLFLOW_TRACKING_PASSWORD=8675dcdf0761bcf5074723776a0dffcb962d0895 \\\n",
    "# python script.py"
   ]
  },
  {
   "cell_type": "code",
   "execution_count": null,
   "metadata": {},
   "outputs": [],
   "source": []
  }
 ],
 "metadata": {
  "kernelspec": {
   "display_name": "kidney",
   "language": "python",
   "name": "python3"
  },
  "language_info": {
   "codemirror_mode": {
    "name": "ipython",
    "version": 3
   },
   "file_extension": ".py",
   "mimetype": "text/x-python",
   "name": "python",
   "nbconvert_exporter": "python",
   "pygments_lexer": "ipython3",
   "version": "3.8.19"
  },
  "orig_nbformat": 4
 },
 "nbformat": 4,
 "nbformat_minor": 2
}
